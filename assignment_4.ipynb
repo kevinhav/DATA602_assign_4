{
 "cells": [
  {
   "cell_type": "markdown",
   "metadata": {},
   "source": [
    "## Q1\n",
    "Create a class called BankAccount that has four attributes: bankname, firstname,\n",
    "lastname, and balance.\n",
    "The default balance should be set to 0.\n",
    "In addition, create ...\n",
    "- A method called deposit() that allows the user to make deposits into their balance.\n",
    "- A method called withdrawal() that allows the user to withdraw from their balance.\n",
    "- Withdrawal may not exceed the available balance. Hint: consider a conditional argument\n",
    "in your withdrawal() method.\n",
    "- Use the __str__() method in order to display the bank name, owner name, and current\n",
    "balance.\n",
    "- Make a series of deposits and withdrawals to test your class.\n"
   ]
  },
  {
   "cell_type": "code",
   "execution_count": 9,
   "metadata": {},
   "outputs": [
    {
     "name": "stdout",
     "output_type": "stream",
     "text": [
      "Welcome to Citibank\n",
      "Account Owner: John Doe\n",
      "Current balance: 0\n",
      "Recent transactions: []\n"
     ]
    }
   ],
   "source": [
    "class BankAccount:\n",
    "    def __init__(self):\n",
    "        self.balance = 0\n",
    "        self.transactions = []\n",
    "        self.bank_name = 'Citibank'\n",
    "        self.first_name = 'John'\n",
    "        self.last_name = 'Doe'\n",
    "\n",
    "    def desposit(self, amount):\n",
    "        self.balance += amount\n",
    "        self.transactions.append(('credit', amount))\n",
    "\n",
    "    def withdrawal(self, amount):\n",
    "\n",
    "        if self.balance - amount >= 0:\n",
    "            self.balance -= amount\n",
    "            self.transactions.append(('debit', amount))\n",
    "        else:\n",
    "            print(f\"Transaction cancelled: your balance ({self.balance}) is not sufficient for that amount\")\n",
    "\n",
    "    def account_summary(self):\n",
    "        print(f'Welcome to {self.bank_name}')\n",
    "        print(f'Account Owner: {self.first_name} {self.last_name}')\n",
    "        print(f'Current balance: {self.balance}')\n",
    "        print(f'Recent transactions: {self.transactions[-3:]}')\n",
    "    \n",
    "\n",
    "my_account = BankAccount()\n",
    "\n",
    "my_account.account_summary()"
   ]
  },
  {
   "cell_type": "code",
   "execution_count": 11,
   "metadata": {},
   "outputs": [
    {
     "name": "stdout",
     "output_type": "stream",
     "text": [
      "Welcome to Citibank\n",
      "Account Owner: John Doe\n",
      "Current balance: 1000\n",
      "Recent transactions: [('credit', 1000)]\n"
     ]
    }
   ],
   "source": [
    "my_account.desposit(1000)\n",
    "my_account.account_summary()"
   ]
  },
  {
   "cell_type": "code",
   "execution_count": 12,
   "metadata": {},
   "outputs": [
    {
     "name": "stdout",
     "output_type": "stream",
     "text": [
      "Transaction cancelled: your balance (1000) is not sufficient for that amount\n"
     ]
    }
   ],
   "source": [
    "my_account.withdrawal(2000)"
   ]
  },
  {
   "cell_type": "markdown",
   "metadata": {},
   "source": [
    "\n",
    "## Q2\n",
    "Create a class Box that has attributes length and width that takes values for length\n",
    "and width upon construction (instantiation via the constructor).\n",
    "In addition, create…\n",
    "- A method called render() that prints out to the screen a box made with asterisks of\n",
    "length and width dimensions\n",
    "- A method called invert() that switches length and width with each other\n",
    "- Methods get_area() and get_perimeter() that return appropriate geometric calculations\n",
    "- A method called double() that doubles the size of the box. Hint: Pay attention to return\n",
    "value here.\n",
    "- Implement __eq__ so that two boxes can be compared using ==. Two boxes are equal if\n",
    "their respective lengths and widths are identical.\n",
    "- A method print_dim() that prints to screen the length and width details of the box\n",
    "- A method get_dim() that returns a tuple containing the length and width of the box\n",
    "- A method combine() that takes another box as an argument and increases the length\n",
    "and width by the dimensions of the box passed in\n",
    "- A method get_hypot() that finds the length of the diagonal that cuts through the middle\n",
    "- Instantiate 3 boxes of dimensions 5,10 , 3,4 and 5,10 and assign to variables box1,\n",
    "box2 and box3 respectively\n",
    "- Print dimension info for each using print_dim()\n",
    "- Evaluate if box1 == box2, and also evaluate if box1 == box3, print True or False to the\n",
    "screen accordingly\n",
    "- Combine box3 into box1 (i.e. box1.combine())\n",
    "- Double the size of box2\n",
    "- Combine box2 into box1\n"
   ]
  },
  {
   "cell_type": "code",
   "execution_count": 64,
   "metadata": {},
   "outputs": [],
   "source": [
    "import math\n",
    "\n",
    "class Box:\n",
    "\n",
    "    def __init__(self, length, width):\n",
    "        self.length = length\n",
    "        self.width = width\n",
    "\n",
    "    def render(self):\n",
    "        for x in range(self.length):\n",
    "            print('*' * self.width + '\\n')\n",
    "\n",
    "    def invert(self):\n",
    "        new_length = self.width\n",
    "        self.width = self.length\n",
    "        self.length = new_length\n",
    "\n",
    "    def get_area(self):\n",
    "        return self.width * self.length\n",
    "\n",
    "    def get_perimeter(self):\n",
    "        return (self.width*2) + (self.length*2)\n",
    "\n",
    "    def double(self):\n",
    "        double_width = self.width * 2\n",
    "        double_length = self.length * 2\n",
    "\n",
    "        self.width = double_width\n",
    "        self.length = double_length\n",
    "\n",
    "    def print_dim(self):\n",
    "        print(f'{self.length} x {self.width}')\n",
    "\n",
    "    def get_dim(self):\n",
    "        return self.length, self.width\n",
    "\n",
    "    def combine(self, box_length, box_width):        \n",
    "        self.length += box_length\n",
    "        self.width += box_width\n",
    "\n",
    "    def get_hypot(self):\n",
    "        return (math.sqrt((self.length**2) + (self.width**2)))\n",
    "    \n",
    "    def __eq__(self, other):\n",
    "        if isinstance(other, Box):\n",
    "            return self.length == other.length and self.width == other.width\n",
    "        return False\n",
    "\n",
    "    "
   ]
  },
  {
   "cell_type": "code",
   "execution_count": 65,
   "metadata": {},
   "outputs": [],
   "source": [
    "box1 = Box(5, 10)\n",
    "box2 = Box(3, 4)\n",
    "box3 = Box(5, 10)"
   ]
  },
  {
   "cell_type": "code",
   "execution_count": 32,
   "metadata": {},
   "outputs": [
    {
     "name": "stdout",
     "output_type": "stream",
     "text": [
      "5 x 10\n",
      "3 x 4\n",
      "5 x 10\n"
     ]
    }
   ],
   "source": [
    "box1.print_dim()\n",
    "box2.print_dim()\n",
    "box3.print_dim()"
   ]
  },
  {
   "cell_type": "code",
   "execution_count": 40,
   "metadata": {},
   "outputs": [
    {
     "name": "stdout",
     "output_type": "stream",
     "text": [
      "True\n",
      "False\n"
     ]
    }
   ],
   "source": [
    "print(str(box1 == box3))\n",
    "print(str(box1 == box2))"
   ]
  },
  {
   "cell_type": "code",
   "execution_count": 43,
   "metadata": {},
   "outputs": [
    {
     "name": "stdout",
     "output_type": "stream",
     "text": [
      "10 x 20\n",
      "5 x 10\n",
      "15 x 30\n"
     ]
    }
   ],
   "source": [
    "box1.print_dim()\n",
    "box3.print_dim()\n",
    "box1.combine(box_length=box3.length, box_width=box3.width)\n",
    "box1.print_dim()\n"
   ]
  },
  {
   "cell_type": "code",
   "execution_count": 66,
   "metadata": {},
   "outputs": [
    {
     "name": "stdout",
     "output_type": "stream",
     "text": [
      "****\n",
      "\n",
      "****\n",
      "\n",
      "****\n",
      "\n",
      "\n",
      "\n",
      "********\n",
      "\n",
      "********\n",
      "\n",
      "********\n",
      "\n",
      "********\n",
      "\n",
      "********\n",
      "\n",
      "********\n",
      "\n"
     ]
    }
   ],
   "source": [
    "box2.render()\n",
    "box2.double()\n",
    "print('\\n')\n",
    "box2.render()"
   ]
  },
  {
   "cell_type": "code",
   "execution_count": 67,
   "metadata": {},
   "outputs": [],
   "source": [
    "box1.combine(box2.length, box2.width)"
   ]
  },
  {
   "cell_type": "code",
   "execution_count": 68,
   "metadata": {},
   "outputs": [
    {
     "name": "stdout",
     "output_type": "stream",
     "text": [
      "11 x 18\n"
     ]
    }
   ],
   "source": [
    "box1.print_dim()"
   ]
  }
 ],
 "metadata": {
  "kernelspec": {
   "display_name": ".venv",
   "language": "python",
   "name": "python3"
  },
  "language_info": {
   "codemirror_mode": {
    "name": "ipython",
    "version": 3
   },
   "file_extension": ".py",
   "mimetype": "text/x-python",
   "name": "python",
   "nbconvert_exporter": "python",
   "pygments_lexer": "ipython3",
   "version": "3.13.1"
  }
 },
 "nbformat": 4,
 "nbformat_minor": 2
}
